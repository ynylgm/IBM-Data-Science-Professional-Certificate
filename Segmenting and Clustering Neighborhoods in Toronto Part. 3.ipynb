{
    "cells": [
        {
            "cell_type": "code",
            "execution_count": 1,
            "metadata": {},
            "outputs": [],
            "source": "import pandas as pd\nimport numpy as np\nimport matplotlib.pyplot as plt\n%matplotlib inline"
        },
        {
            "cell_type": "code",
            "execution_count": 2,
            "metadata": {},
            "outputs": [],
            "source": "from bs4 import BeautifulSoup\nfrom urllib.request import urlopen\nimport requests"
        },
        {
            "cell_type": "code",
            "execution_count": 3,
            "metadata": {},
            "outputs": [
                {
                    "ename": "ModuleNotFoundError",
                    "evalue": "No module named 'folium'",
                    "output_type": "error",
                    "traceback": [
                        "\u001b[0;31m---------------------------------------------------------------------------\u001b[0m",
                        "\u001b[0;31mModuleNotFoundError\u001b[0m                       Traceback (most recent call last)",
                        "\u001b[0;32m<ipython-input-3-5ffaf6ce465f>\u001b[0m in \u001b[0;36m<module>\u001b[0;34m\u001b[0m\n\u001b[1;32m      5\u001b[0m \u001b[0;32mimport\u001b[0m \u001b[0mmatplotlib\u001b[0m\u001b[0;34m.\u001b[0m\u001b[0mcolors\u001b[0m \u001b[0;32mas\u001b[0m \u001b[0mcolors\u001b[0m\u001b[0;34m\u001b[0m\u001b[0;34m\u001b[0m\u001b[0m\n\u001b[1;32m      6\u001b[0m \u001b[0;32mfrom\u001b[0m \u001b[0msklearn\u001b[0m\u001b[0;34m.\u001b[0m\u001b[0mcluster\u001b[0m \u001b[0;32mimport\u001b[0m \u001b[0mKMeans\u001b[0m\u001b[0;34m\u001b[0m\u001b[0;34m\u001b[0m\u001b[0m\n\u001b[0;32m----> 7\u001b[0;31m \u001b[0;32mimport\u001b[0m \u001b[0mfolium\u001b[0m\u001b[0;34m\u001b[0m\u001b[0;34m\u001b[0m\u001b[0m\n\u001b[0m",
                        "\u001b[0;31mModuleNotFoundError\u001b[0m: No module named 'folium'"
                    ]
                }
            ],
            "source": "import json\nfrom geopy.geocoders import Nominatim\nfrom pandas.io.json import json_normalize\nimport matplotlib.cm as cm\nimport matplotlib.colors as colors\nfrom sklearn.cluster import KMeans\nimport folium"
        },
        {
            "cell_type": "markdown",
            "metadata": {},
            "source": "Import URL content using _BeautifulSoup_"
        },
        {
            "cell_type": "code",
            "execution_count": null,
            "metadata": {},
            "outputs": [],
            "source": "url = \"https://en.wikipedia.org/wiki/List_of_postal_codes_of_Canada:_M\"\nhtml = urlopen(url)\nsoup = BeautifulSoup(html, 'lxml')"
        },
        {
            "cell_type": "code",
            "execution_count": null,
            "metadata": {},
            "outputs": [],
            "source": "print(soup.prettify()[0:700])"
        },
        {
            "cell_type": "markdown",
            "metadata": {},
            "source": "Find all rows in the table and save to the variable rows"
        },
        {
            "cell_type": "code",
            "execution_count": null,
            "metadata": {},
            "outputs": [],
            "source": "rows = soup.find_all(\"tr\")\nrows[0:5]"
        },
        {
            "cell_type": "markdown",
            "metadata": {},
            "source": "Save the column names (header) to the list variable col"
        },
        {
            "cell_type": "code",
            "execution_count": null,
            "metadata": {},
            "outputs": [],
            "source": "col = []\nfor r in rows[0].find_all(\"th\"):\n    col.append(r.string.strip('\\n'))\nprint(col)"
        },
        {
            "cell_type": "markdown",
            "metadata": {},
            "source": "Save the table contents in \"rows\" to the list variable in data"
        },
        {
            "cell_type": "code",
            "execution_count": null,
            "metadata": {
                "scrolled": true
            },
            "outputs": [],
            "source": "data = []\ni = 1\nfor i in range(len(rows)):\n    row = []\n    for r in rows[i].find_all(\"td\"):\n            row.append(r.string)\n    data.append(row)\n    i+=1"
        },
        {
            "cell_type": "code",
            "execution_count": null,
            "metadata": {},
            "outputs": [],
            "source": "del data[-4:]\ndel data[0]\nprint(data)"
        },
        {
            "cell_type": "markdown",
            "metadata": {},
            "source": "Remove \"\\n\" from the table contents and save to the new list variable ndata"
        },
        {
            "cell_type": "code",
            "execution_count": null,
            "metadata": {},
            "outputs": [],
            "source": "ndata = []\nfor d in data:\n    row = []\n    for e in d:\n        row.append(e.strip('\\n'))\n    ndata.append(row)\nprint(ndata)"
        },
        {
            "cell_type": "markdown",
            "metadata": {},
            "source": "Create a dataframe with contents in ndata and column headers in col"
        },
        {
            "cell_type": "code",
            "execution_count": null,
            "metadata": {},
            "outputs": [],
            "source": "df = pd.DataFrame(ndata, columns = col)\ndf.shape"
        },
        {
            "cell_type": "code",
            "execution_count": null,
            "metadata": {},
            "outputs": [],
            "source": "df"
        },
        {
            "cell_type": "markdown",
            "metadata": {},
            "source": "Create a new dataframe toronto only containing rows needed for the project using the specified Postal Code "
        },
        {
            "cell_type": "code",
            "execution_count": null,
            "metadata": {},
            "outputs": [],
            "source": "toronto = pd.DataFrame(columns = col)\npc = ['M5G','M2H','M4B','M1J','M4G','M4M','M1R','M9V','M9L','M5V','M1B','M5A']\nfor i in range(len(pc)):\n    toronto = toronto.append(df.loc[df['Postal Code'] == pc[i], :])\ntoronto"
        },
        {
            "cell_type": "code",
            "execution_count": null,
            "metadata": {},
            "outputs": [],
            "source": "toronto.reset_index(inplace=True)\ntoronto.drop(columns = 'index', inplace=True)\ntoronto"
        },
        {
            "cell_type": "markdown",
            "metadata": {},
            "source": "Import geospatial data that contains latitudes and longitudes of each neighborhood"
        },
        {
            "cell_type": "code",
            "execution_count": null,
            "metadata": {},
            "outputs": [],
            "source": "geospatial_data = pd.read_csv('https://cocl.us/Geospatial_data')\ngeospatial_data"
        },
        {
            "cell_type": "markdown",
            "metadata": {},
            "source": "Create a dataframe coordinates that contains only the coordinates of the specified neighborhoods"
        },
        {
            "cell_type": "code",
            "execution_count": null,
            "metadata": {},
            "outputs": [],
            "source": "coordinates = pd.DataFrame()\nfor i in range(len(pc)):\n    coordinates = coordinates.append(geospatial_data.loc[geospatial_data['Postal Code'] == pc[i], :])\ncoordinates"
        },
        {
            "cell_type": "code",
            "execution_count": null,
            "metadata": {},
            "outputs": [],
            "source": "coordinates.reset_index(inplace=True)\ncoordinates.drop(columns = 'index', inplace=True)\ncoordinates"
        },
        {
            "cell_type": "markdown",
            "metadata": {},
            "source": "Add latitude and longitude columns to the dataframe toronto"
        },
        {
            "cell_type": "code",
            "execution_count": null,
            "metadata": {},
            "outputs": [],
            "source": "toronto['Latitude'] = coordinates['Latitude']\ntoronto['Longitude'] = coordinates['Longitude']\ntoronto"
        },
        {
            "cell_type": "markdown",
            "metadata": {},
            "source": "Get the geographical coordinates of Toronto"
        },
        {
            "cell_type": "code",
            "execution_count": null,
            "metadata": {},
            "outputs": [],
            "source": "address = 'Toronto, ON'\ngeolocator = Nominatim(user_agent=\"toronto_explorer\")\nlocation = geolocator.geocode(address)\nlatitude = location.latitude\nlongitude = location.longitude\nprint('The geograpical coordinate of Toronto are {}, {}.'.format(latitude, longitude))"
        },
        {
            "cell_type": "markdown",
            "metadata": {},
            "source": "Visualize Toronto and the neighborhoods in it"
        },
        {
            "cell_type": "code",
            "execution_count": null,
            "metadata": {},
            "outputs": [],
            "source": "map_toronto = folium.Map(location=[latitude, longitude], zoom_start=11)\n\nfor lat, lng, label in zip(toronto['Latitude'], toronto['Longitude'], toronto['Neighborhood']):\n    label = folium.Popup(label, parse_html=True)\n    folium.CircleMarker(\n        [lat, lng],\n        radius=5,\n        popup=label,\n        color='blue',\n        fill=True,\n        fill_color='#3186cc',\n        fill_opacity=0.7,\n        parse_html=False).add_to(map_toronto)  \n    \nmap_toronto"
        },
        {
            "cell_type": "markdown",
            "metadata": {},
            "source": "Define Foursquare Credentials and Version"
        },
        {
            "cell_type": "markdown",
            "metadata": {},
            "source": "__THE GOAL IS TO ANALYZE THE TYPES OF RESTAURANTS IN EACH NEIGHBORHOOD, CLUSTER THE NEIGHBORHOODS BY FREQUENCY OF VARIOUS TYPES OF RESTAURANTS SO TRAVELERS TO THE AREAS MARKED ABOVE CAN MAKE A BETTER DECISION ON WHICH NEIGHBORHOOD TO TRAVEL TO DEPENDING ON WHAT CUISINE THEY CRAVE.__"
        },
        {
            "cell_type": "code",
            "execution_count": null,
            "metadata": {},
            "outputs": [],
            "source": "# The code was removed by Watson Studio for sharing."
        },
        {
            "cell_type": "markdown",
            "metadata": {},
            "source": "Create a function that generates URLs, make GET requests, import only relevent information for each venues and return a dataframe"
        },
        {
            "cell_type": "code",
            "execution_count": null,
            "metadata": {},
            "outputs": [],
            "source": "def getNearbyVenues(names, latitudes, longitudes, radius=500):\n    \n    venues_list=[]\n    for name, lat, lng in zip(names, latitudes, longitudes):\n        print(name)\n            \n        url = 'https://api.foursquare.com/v2/venues/explore?&client_id={}&client_secret={}&v={}&ll={},{}&radius={}&limit={}'.format(\n            CLIENT_ID, \n            CLIENT_SECRET, \n            VERSION, \n            lat, \n            lng, \n            radius, \n            LIMIT)\n        \n        results = requests.get(url).json()[\"response\"]['groups'][0]['items']\n        \n        venues_list.append([(\n            name, \n            lat, \n            lng, \n            v['venue']['name'],  \n            v['venue']['location']['lat'], \n            v['venue']['location']['lng'],\n            v['venue']['categories'][0]['name']) for v in results])\n\n    nearby_venues = pd.DataFrame([item for venue_list in venues_list for item in venue_list])\n    nearby_venues.columns = ['Neighborhood', \n                  'Neighborhood Latitude', \n                  'Neighborhood Longitude', \n                  'Venue', \n                  'Venue Latitude', \n                  'Venue Longitude', \n                  'Venue Category']\n    \n    return(nearby_venues)"
        },
        {
            "cell_type": "markdown",
            "metadata": {},
            "source": "Run the getNearbyVenues function on each neighborhood and save to the dataframe toronto_venues"
        },
        {
            "cell_type": "code",
            "execution_count": null,
            "metadata": {},
            "outputs": [],
            "source": "LIMIT = 100\ntoronto_venues = getNearbyVenues(names=toronto['Neighborhood'],\n                                 latitudes=toronto['Latitude'],\n                                 longitudes=toronto['Longitude']\n                                 )"
        },
        {
            "cell_type": "code",
            "execution_count": null,
            "metadata": {},
            "outputs": [],
            "source": "print(toronto_venues.shape)\ntoronto_venues.head()"
        },
        {
            "cell_type": "markdown",
            "metadata": {},
            "source": "Venues count for each neighborhood"
        },
        {
            "cell_type": "code",
            "execution_count": null,
            "metadata": {},
            "outputs": [],
            "source": "toronto_venues.groupby('Neighborhood').count()"
        },
        {
            "cell_type": "markdown",
            "metadata": {},
            "source": "Number of unique venue categories"
        },
        {
            "cell_type": "code",
            "execution_count": null,
            "metadata": {},
            "outputs": [],
            "source": "len(toronto_venues['Venue Category'].unique())"
        },
        {
            "cell_type": "markdown",
            "metadata": {},
            "source": "Create a new dataframe toronto_onehot with dummies for each venue category"
        },
        {
            "cell_type": "code",
            "execution_count": null,
            "metadata": {},
            "outputs": [],
            "source": "toronto_onehot = pd.get_dummies(toronto_venues[['Venue Category']], prefix=\"\", prefix_sep=\"\")\n\ntoronto_onehot.head()"
        },
        {
            "cell_type": "markdown",
            "metadata": {},
            "source": "Drop all venue categories that are not restaurant"
        },
        {
            "cell_type": "code",
            "execution_count": null,
            "metadata": {},
            "outputs": [],
            "source": "toronto_onehot = toronto_onehot[toronto_onehot.columns[toronto_onehot.columns.str.contains('Restaurant')]]\ntoronto_onehot"
        },
        {
            "cell_type": "code",
            "execution_count": null,
            "metadata": {},
            "outputs": [],
            "source": "toronto_onehot['Neighborhood'] = toronto_venues['Neighborhood'] \n\nfixed_columns = [toronto_onehot.columns[-1]] + list(toronto_onehot.columns[:-1])\ntoronto_onehot = toronto_onehot[fixed_columns]\ntoronto_onehot"
        },
        {
            "cell_type": "code",
            "execution_count": null,
            "metadata": {},
            "outputs": [],
            "source": "toronto_onehot.shape"
        },
        {
            "cell_type": "markdown",
            "metadata": {},
            "source": "Make a new dataframe toronto_grouped with grouped rows by neighborhood and by taking the mean of the frequency of occurrence of each category"
        },
        {
            "cell_type": "code",
            "execution_count": null,
            "metadata": {},
            "outputs": [],
            "source": "toronto_grouped = toronto_onehot.groupby('Neighborhood').mean().reset_index()\ntoronto_grouped"
        },
        {
            "cell_type": "code",
            "execution_count": null,
            "metadata": {},
            "outputs": [],
            "source": "toronto_grouped.shape"
        },
        {
            "cell_type": "markdown",
            "metadata": {},
            "source": "Write a function to sort the rows in descending order"
        },
        {
            "cell_type": "code",
            "execution_count": null,
            "metadata": {},
            "outputs": [],
            "source": "def return_most_common_restaurants(row, num_top_restaurants):\n    row_categories = row.iloc[1:]\n    row_categories_sorted = row_categories.sort_values(ascending=False)\n    \n    return row_categories_sorted.index.values[0:num_top_restaurants]"
        },
        {
            "cell_type": "markdown",
            "metadata": {},
            "source": "Create a dataframe neighborhoods_venues_sorted with top 10 venue categories for each neighborhood"
        },
        {
            "cell_type": "code",
            "execution_count": null,
            "metadata": {},
            "outputs": [],
            "source": "num_top_restaurants = 10\nindicators = ['st', 'nd', 'rd']\n\ncolumns = ['Neighborhood']\nfor ind in np.arange(num_top_restaurants):\n    try:\n        columns.append('{}{} Most Common Restaurant'.format(ind+1, indicators[ind]))\n    except:\n        columns.append('{}th Most Common Restaurant'.format(ind+1))\n\nneighborhoods_restaurants_sorted = pd.DataFrame(columns=columns)\nneighborhoods_restaurants_sorted['Neighborhood'] = toronto_grouped['Neighborhood']\n\nfor ind in np.arange(toronto_grouped.shape[0]):\n    neighborhoods_restaurants_sorted.iloc[ind, 1:] = return_most_common_restaurants(toronto_grouped.iloc[ind, :], num_top_restaurants)\n\nneighborhoods_restaurants_sorted"
        },
        {
            "cell_type": "markdown",
            "metadata": {},
            "source": "Run k-means clustering and cluster the neighborhoods into 5 clusters by restaurant types"
        },
        {
            "cell_type": "code",
            "execution_count": null,
            "metadata": {},
            "outputs": [],
            "source": "kclusters = 5\ntoronto_grouped_clustering = toronto_grouped.drop('Neighborhood', 1)\nkmeans = KMeans(n_clusters=kclusters, random_state=0).fit(toronto_grouped_clustering)\n\nkmeans.labels_[0:10] "
        },
        {
            "cell_type": "markdown",
            "metadata": {},
            "source": "Create a new dataframe by merging toronto and neighborhoods_venues_sorted and dropping postal codes column, which returns only boroughs, neighborhoods, coordinates for each neighborhood, newly-added cluster labels, and venue categories"
        },
        {
            "cell_type": "code",
            "execution_count": null,
            "metadata": {},
            "outputs": [],
            "source": "neighborhoods_restaurants_sorted.insert(0, 'Cluster Labels', kmeans.labels_)\n\ntoronto_merged = toronto\ntoronto_merged = toronto_merged.join(neighborhoods_restaurants_sorted.set_index('Neighborhood'), on='Neighborhood')\n\ntoronto_merged.drop(columns = 'Postal Code', inplace=True)\ntoronto_merged"
        },
        {
            "cell_type": "markdown",
            "metadata": {},
            "source": "Create a map that visualizes the resulting clusters"
        },
        {
            "cell_type": "code",
            "execution_count": null,
            "metadata": {},
            "outputs": [],
            "source": "map_clusters = folium.Map(location=[latitude, longitude], zoom_start=11)\n\nx = np.arange(kclusters)\nys = [i + x + (i*x)**2 for i in range(kclusters)]\ncolors_array = cm.rainbow(np.linspace(0, 1, len(ys)))\nrainbow = [colors.rgb2hex(i) for i in colors_array]\n\nmarkers_colors = []\nfor lat, lon, poi, cluster in zip(toronto_merged['Latitude'], toronto_merged['Longitude'], toronto_merged['Neighborhood'], toronto_merged['Cluster Labels']):\n    label = folium.Popup(str(poi) + ' Cluster ' + str(cluster), parse_html=True)\n    folium.CircleMarker(\n        [lat, lon],\n        radius=5,\n        popup=label,\n        color=rainbow[cluster-1],\n        fill=True,\n        fill_color=rainbow[cluster-1],\n        fill_opacity=0.7).add_to(map_clusters)\n       \nmap_clusters"
        },
        {
            "cell_type": "markdown",
            "metadata": {},
            "source": "__THE FOLLOWING IS THE EXAMINATION OF EACH CLUSTER, SHOWING WHICH TYPES OF RESTAURANTS ARE FREQUENTLY POPULATED IN LISTED NEIGHBORHOODS. FOR THOSE WHO PLAN TO TRAVEL TO THE LISTED AREAS, THE FOLLOWING ANALYSIS SHOULD COME IN HANDY WHEN DECIDING WHICH NEIGHBORHOOD TO TRAVEL TO DEPENDING ON THE TYPE OF CUISINE YOU ARE CRAVING.__"
        },
        {
            "cell_type": "markdown",
            "metadata": {},
            "source": "__Cluster 1__: Mainly comprised of __Fast Food__, __Vegetarian/Vegan__, __Korean__, __Asian__, __Comfort Food Restaurants__, etc."
        },
        {
            "cell_type": "code",
            "execution_count": null,
            "metadata": {},
            "outputs": [],
            "source": "toronto_merged.loc[toronto_merged['Cluster Labels'] == 0, toronto_merged.columns[[1] + list(range(5, toronto_merged.shape[1]))]]"
        },
        {
            "cell_type": "markdown",
            "metadata": {},
            "source": "__Cluster 2__: Mainly comprised of __Italian__, __Vegetarian/Vegan__, __Asian__, __Japanese__, __Korean__, __Comfort Food Restaurants__, etc."
        },
        {
            "cell_type": "code",
            "execution_count": null,
            "metadata": {},
            "outputs": [],
            "source": "toronto_merged.loc[toronto_merged['Cluster Labels'] == 1, toronto_merged.columns[[1] + list(range(5, toronto_merged.shape[1]))]]"
        },
        {
            "cell_type": "markdown",
            "metadata": {},
            "source": "__Cluster 3__: Mainly comprised of __Fast Food__,__Vegetarian/Vegan__, __Korean__, __Asian Restaurants__ etc."
        },
        {
            "cell_type": "code",
            "execution_count": null,
            "metadata": {},
            "outputs": [],
            "source": "toronto_merged.loc[toronto_merged['Cluster Labels'] == 2, toronto_merged.columns[[1] + list(range(5, toronto_merged.shape[1]))]]"
        },
        {
            "cell_type": "markdown",
            "metadata": {},
            "source": "__Cluster 4__: Mainly comprised of __Middle Eastern__, __Vegetarian/Vegan__, __Korean__, __Asian__, __Comfort Food Restaurants__, etc."
        },
        {
            "cell_type": "code",
            "execution_count": null,
            "metadata": {},
            "outputs": [],
            "source": "toronto_merged.loc[toronto_merged['Cluster Labels'] == 3, toronto_merged.columns[[1] + list(range(5, toronto_merged.shape[1]))]]"
        },
        {
            "cell_type": "markdown",
            "metadata": {},
            "source": "__Cluster 5__: Mainly comprised of __Mediterranean__, __Vegetarian/Vegan__, __Korean__, __Asian__, __Comfort Food Restaurants__, etc."
        },
        {
            "cell_type": "code",
            "execution_count": null,
            "metadata": {},
            "outputs": [],
            "source": "toronto_merged.loc[toronto_merged['Cluster Labels'] == 4, toronto_merged.columns[[1] + list(range(5, toronto_merged.shape[1]))]]"
        },
        {
            "cell_type": "code",
            "execution_count": null,
            "metadata": {},
            "outputs": [],
            "source": ""
        }
    ],
    "metadata": {
        "kernelspec": {
            "display_name": "Python 3.6",
            "language": "python",
            "name": "python3"
        },
        "language_info": {
            "codemirror_mode": {
                "name": "ipython",
                "version": 3
            },
            "file_extension": ".py",
            "mimetype": "text/x-python",
            "name": "python",
            "nbconvert_exporter": "python",
            "pygments_lexer": "ipython3",
            "version": "3.6.9"
        }
    },
    "nbformat": 4,
    "nbformat_minor": 4
}